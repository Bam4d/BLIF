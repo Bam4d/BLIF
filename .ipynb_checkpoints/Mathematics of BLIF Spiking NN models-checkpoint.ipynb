{
 "cells": [
  {
   "cell_type": "code",
   "execution_count": 2,
   "metadata": {
    "collapsed": true
   },
   "outputs": [],
   "source": [
    "import matplotlib\n",
    "import numpy as np\n",
    "import matplotlib.pyplot as plt\n",
    "%matplotlib inline  "
   ]
  },
  {
   "cell_type": "markdown",
   "metadata": {},
   "source": [
    "# BLIF - Bamford Leaky Integrate and Fire \n",
    "\n",
    "## Background\n",
    "\n",
    "These models were created as part of my Masters at reading university. I had a huge interest in neural networks especially with piking neural networks as Deep Learning was not a huge field back then.\n",
    "\n",
    "I want to try and apply some things I have learned while working with deep learning at import.io, to the models I had while in university. I also have several other ideas that i think I could apply, for example:\n",
    "\n",
    "* Using sorted sets to store future spike events. \n",
    "  * This was previously done using a list of lists which stored the events up to 20 time points in the future. \n",
    "  * Can store a limitless number of events in a sorted set, where the item in the set is scored with a timestamp of **expected execution time**. Much like a CPU scheduler\n",
    "* Implementing Error Backpropagation\n",
    "  * Can work out how to propagate errors back to previous neurons based on error and time values, this is known as **Spike Time Dependent Plasticity**\n",
    "  * Can implement some basic output layers such as softmax .\n",
    "  * Can implement Error functions such as cross entropy, mean squared error etc..\n",
    "  \n",
    "  \n",
    "Generally this is for pure interest and my own personal research. Also its good practice understanding mathematical concepts that come in hanny when doing any kind of ML project.\n",
    "\n",
    "## BLIF\n",
    "\n",
    "The BLIF neuron model (renamed from cavalcade because thats a bit shitty) is a spiking neuron model with a very basic activation function.\n",
    "\n",
    "### Action potential\n",
    "\n",
    "The neuron's activation potential is reactive to instantaneous spikes (To be more mathematically correct, it is effectively integrating a diract delta). The neuron then exponentially decays that action potential ($V$) over time with respect to when that spike was recieved. \n",
    "\n",
    "$V(t) = \\alpha.e^{-(t - t_{n-1}) \\over \\epsilon}$\n",
    "\n",
    "($\\epsilon$ here is a \"decay factor\")\n",
    "\n",
    "\n",
    "For example: Given a spike $\\alpha = 1$ a time $t = 0$ and there are no other spikes\n",
    "\n",
    "$V(t) = \\alpha.e^{-(t - 0) \\over \\epsilon}$"
   ]
  },
  {
   "cell_type": "code",
   "execution_count": 292,
   "metadata": {
    "collapsed": false
   },
   "outputs": [
    {
     "data": {
      "image/png": "[encoded data removed]",
      "text/plain": [
       "<matplotlib.figure.Figure at 0x7fbcec5e07d0>"
      ]
     },
     "metadata": {},
     "output_type": "display_data"
    }
   ],
   "source": [
    "\n",
    "epsilon = 5\n",
    "min = -10.0\n",
    "max = 10.0\n",
    "dt = 0.1\n",
    "t = np.arange(min, max, dt)\n",
    "\n",
    "# Definte a function that will plot a \n",
    "def plot_BLIF(ts, alphas):\n",
    "    \n",
    "    ts = np.array(ts)\n",
    "    alphas = np.array(alphas)\n",
    "    \n",
    "    # Create integratons of diract delta functions for each spike\n",
    "    D = np.tile(t, (len(ts), 1))\n",
    "    cidx, ridx = np.where(D.T>ts)\n",
    "    D[:,:] = 0\n",
    "    D[ridx, cidx] = 1\n",
    "\n",
    "    # Multiply integrated spikes with spike strengths\n",
    "    Da = D.T*alphas\n",
    "\n",
    "    # Decay function for each spike\n",
    "    E = np.exp(-((t - ts[None,:].T) / epsilon))\n",
    "\n",
    "    # sum the components of the exponentials\n",
    "    Vt = np.sum(Da.T * E, axis=0)\n",
    "\n",
    "    fig = plt.figure()\n",
    "    top = fig.add_subplot(211)\n",
    "    bottom = fig.add_subplot(212)\n",
    "\n",
    "    top.set_xlim([min, max])\n",
    "    bottom.set_xlim([min, max])\n",
    "    bottom.set_ylim([0, 2])\n",
    "\n",
    "    top.plot(t, Vt.T)\n",
    "    bottom.vlines(ts, [0],alphas)\n",
    "\n",
    "# One spike a t=0 with aplitude 1\n",
    "ts = [0]\n",
    "alphas = [1]\n",
    "\n",
    "plot_BLIF(ts, alphas)"
   ]
  },
  {
   "cell_type": "markdown",
   "metadata": {},
   "source": [
    "#### Multiple spikes\n",
    "\n",
    "The action potential with many input spikes can be calculated by adding the spike amplitude to the current action potential and then decaying from that point.\n",
    "\n",
    "For example: Given a spike $\\alpha = 1$ a time $t = 0$ and there is a spike at $t=3$\n",
    "\n",
    "$V(t)= \\alpha.e^{-(t - 0) \\over \\epsilon}$ \n",
    "\n",
    "$V(t) = \\alpha.e^{-(3 - 0) \\over \\epsilon} + \\alpha.e^{-(t - 3) \\over \\epsilon}$"
   ]
  },
  {
   "cell_type": "code",
   "execution_count": 293,
   "metadata": {
    "collapsed": false
   },
   "outputs": [
    {
     "ename": "TypeError",
     "evalue": "list indices must be integers, not tuple",
     "output_type": "error",
     "traceback": [
      "\u001b[1;31m---------------------------------------------------------------------------\u001b[0m",
      "\u001b[1;31mTypeError\u001b[0m                                 Traceback (most recent call last)",
      "\u001b[1;32m<ipython-input-293-5f7e70fb989c>\u001b[0m in \u001b[0;36m<module>\u001b[1;34m()\u001b[0m\n\u001b[1;32m----> 1\u001b[1;33m \u001b[0mplot_BLIF\u001b[0m\u001b[1;33m(\u001b[0m\u001b[1;33m[\u001b[0m\u001b[1;36m0\u001b[0m\u001b[1;33m,\u001b[0m \u001b[1;36m3\u001b[0m\u001b[1;33m]\u001b[0m\u001b[1;33m,\u001b[0m \u001b[1;33m[\u001b[0m\u001b[1;36m1\u001b[0m\u001b[1;33m,\u001b[0m \u001b[1;36m1\u001b[0m\u001b[1;33m]\u001b[0m\u001b[1;33m)\u001b[0m\u001b[1;33m\u001b[0m\u001b[0m\n\u001b[0m",
      "\u001b[1;32m<ipython-input-292-9c8a27b7fa88>\u001b[0m in \u001b[0;36mplot_BLIF\u001b[1;34m(ts, alphas)\u001b[0m\n\u001b[0;32m     21\u001b[0m \u001b[1;33m\u001b[0m\u001b[0m\n\u001b[0;32m     22\u001b[0m     \u001b[1;31m# Decay function for each spike\u001b[0m\u001b[1;33m\u001b[0m\u001b[1;33m\u001b[0m\u001b[0m\n\u001b[1;32m---> 23\u001b[1;33m     \u001b[0mE\u001b[0m \u001b[1;33m=\u001b[0m \u001b[0mnp\u001b[0m\u001b[1;33m.\u001b[0m\u001b[0mexp\u001b[0m\u001b[1;33m(\u001b[0m\u001b[1;33m-\u001b[0m\u001b[1;33m(\u001b[0m\u001b[1;33m(\u001b[0m\u001b[0mt\u001b[0m \u001b[1;33m-\u001b[0m \u001b[0mts\u001b[0m\u001b[1;33m[\u001b[0m\u001b[0mNone\u001b[0m\u001b[1;33m,\u001b[0m\u001b[1;33m:\u001b[0m\u001b[1;33m]\u001b[0m\u001b[1;33m.\u001b[0m\u001b[0mT\u001b[0m\u001b[1;33m)\u001b[0m \u001b[1;33m/\u001b[0m \u001b[0mepsilon\u001b[0m\u001b[1;33m)\u001b[0m\u001b[1;33m)\u001b[0m\u001b[1;33m\u001b[0m\u001b[0m\n\u001b[0m\u001b[0;32m     24\u001b[0m \u001b[1;33m\u001b[0m\u001b[0m\n\u001b[0;32m     25\u001b[0m     \u001b[1;31m#Da = Da.reshape(len(t), 1)\u001b[0m\u001b[1;33m\u001b[0m\u001b[1;33m\u001b[0m\u001b[0m\n",
      "\u001b[1;31mTypeError\u001b[0m: list indices must be integers, not tuple"
     ]
    }
   ],
   "source": [
    "plot_BLIF([0, 3], [1, 1])"
   ]
  },
  {
   "cell_type": "markdown",
   "metadata": {
    "collapsed": true
   },
   "source": [
    "#### Generalization of spike trains\n",
    "\n",
    "### Saturation\n",
    "\n",
    "## Output firing frequency"
   ]
  },
  {
   "cell_type": "code",
   "execution_count": 280,
   "metadata": {
    "collapsed": false
   },
   "outputs": [
    {
     "data": {
      "text/plain": [
       "array([ 3. ,  3. ,  2.7])"
      ]
     },
     "execution_count": 280,
     "metadata": {},
     "output_type": "execute_result"
    }
   ],
   "source": [
    "a = np.array([[1,1,1],[2,2,2],[3,3,3]])\n",
    "b = np.array([[1,1,1],[0.5,0.5,0.5],[0.3,0.3,0.3]])\n",
    "\n",
    "np.sum(a*b, axis=1)"
   ]
  },
  {
   "cell_type": "code",
   "execution_count": null,
   "metadata": {
    "collapsed": false
   },
   "outputs": [],
   "source": []
  }
 ],
 "metadata": {
  "kernelspec": {
   "display_name": "Python 2",
   "language": "python",
   "name": "python2"
  },
  "language_info": {
   "codemirror_mode": {
    "name": "ipython",
    "version": 2
   },
   "file_extension": ".py",
   "mimetype": "text/x-python",
   "name": "python",
   "nbconvert_exporter": "python",
   "pygments_lexer": "ipython2",
   "version": "2.7.6"
  }
 },
 "nbformat": 4,
 "nbformat_minor": 0
}
