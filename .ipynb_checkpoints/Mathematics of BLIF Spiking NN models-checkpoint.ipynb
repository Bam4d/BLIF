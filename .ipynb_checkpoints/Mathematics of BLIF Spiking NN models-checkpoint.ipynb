{
 "cells": [
  {
   "cell_type": "code",
   "execution_count": 1,
   "metadata": {
    "collapsed": true
   },
   "outputs": [],
   "source": [
    "import matplotlib\n",
    "import numpy as np\n",
    "import matplotlib.pyplot as plt\n",
    "%matplotlib inline  "
   ]
  },
  {
   "cell_type": "markdown",
   "metadata": {},
   "source": [
    "# BLIF - Bamford Leaky Integrate and Fire \n",
    "\n",
    "## Background\n",
    "\n",
    "These models were created as part of my Masters at reading university. I had a huge interest in neural networks especially with piking neural networks as Deep Learning was not a huge field back then.\n",
    "\n",
    "I want to try and apply some things I have learned while working with deep learning at import.io, to the models I had while in university. I also have several other ideas that i think I could apply, for example:\n",
    "\n",
    "* Using sorted sets to store future spike events. \n",
    "  * This was previously done using a list of lists which stored the events up to 20 time points in the future. \n",
    "  * Can store a limitless number of events in a sorted set, where the item in the set is scored with a timestamp of **expected execution time**. Much like a CPU scheduler\n",
    "* Implementing Error Backpropagation\n",
    "  * Can work out how to propagate errors back to previous neurons based on error and time values, this is known as **Spike Time Dependent Plasticity**\n",
    "  * Can implement some basic output layers such as softmax .\n",
    "  * Can implement Error functions such as cross entropy, mean squared error etc..\n",
    "  \n",
    "  \n",
    "Generally this is for pure interest and my own personal research. Also its good practice understanding mathematical concepts that come in hanny when doing any kind of ML project.\n",
    "\n",
    "## BLIF\n",
    "\n",
    "The BLIF neuron model (renamed from cavalcade because thats a bit shitty) is a spiking neuron model with a very basic activation function.\n",
    "\n",
    "### Action potential\n",
    "\n",
    "The neuron's activation potential is reactive to instantaneous spikes (To be more mathematically correct, it is effectively integrating a dirac delta). The neuron then exponentially decays that action potential ($V$) over time with respect to when that spike was recieved. \n",
    "\n",
    "$V(t) = \\alpha.e^{-(t_{n} - t_{n-1}) \\over \\epsilon}$\n",
    "\n",
    "($\\epsilon$ here is a \"decay factor\")\n",
    "\n",
    "\n",
    "For example: Given a spike $\\alpha = 1$ a time $t = 0$ and there are no other spikes\n",
    "\n",
    "$V(t) = \\alpha.e^{-(t - 0) \\over \\epsilon}$"
   ]
  },
  {
   "cell_type": "code",
   "execution_count": 23,
   "metadata": {},
   "outputs": [
    {
     "data": {
      "text/plain": [
       "(<matplotlib.axes.AxesSubplot at 0x7f72bbe9f5d0>,\n",
       " <matplotlib.axes.AxesSubplot at 0x7f72bb920610>)"
      ]
     },
     "execution_count": 23,
     "metadata": {},
     "output_type": "execute_result"
    },
    {
     "data": {
      "image/png": "[encoded data removed]",
      "text/plain": [
       "<matplotlib.figure.Figure at 0x7f72bbbc9ed0>"
      ]
     },
     "metadata": {},
     "output_type": "display_data"
    }
   ],
   "source": [
    "# Definte a function that will plot our action potential\n",
    "def generate_BLIF(t, phi, A, epsilon):\n",
    "    \n",
    "    phi = np.array(phi)\n",
    "    A = np.array(A)\n",
    "    \n",
    "    # Create integratons of diract delta functions for each spike\n",
    "    D = np.tile(t, (len(phi), 1))\n",
    "    cidx, ridx = np.where(D.T>=phi)\n",
    "    D[:,:] = 0\n",
    "    D[ridx, cidx] = 1\n",
    "    \n",
    "    # Decay function for each spike\n",
    "    E = np.exp(-((t - phi[None,:].T) / epsilon))\n",
    "\n",
    "    # Multiply integrated spikes with spike strengths\n",
    "    Da = np.multiply(D.T, A)\n",
    "\n",
    "    # Sum the product of the exponentials and the integrated dirac step\n",
    "    Vt = np.sum(Da.T * E, axis=0)\n",
    "    \n",
    "    return Vt\n",
    "\n",
    "# Generate action potential graph using event based method instead of mathematical\n",
    "def generate_BLIF_events(t, phi, A, epsilon, T=-1):\n",
    "    \n",
    "    Vt = np.zeros_like(t)\n",
    "    prev_Vt = 0\n",
    "    idx = 0\n",
    "    prev_fire_t = 0\n",
    "    \n",
    "    phi_out = []\n",
    "    alpha_out = []\n",
    "    for i, dt in enumerate(t):\n",
    "        \n",
    "        if len(phi) > idx and dt > phi[idx]:\n",
    "            prev_fire_t = dt\n",
    "            prev_Vt = Vt_t + A[idx]\n",
    "            idx+=1\n",
    "            \n",
    "        Vt_t = prev_Vt*np.exp(-(dt-prev_fire_t)/epsilon) if idx > 0 else 0\n",
    "        \n",
    "        if T>0 and Vt_t>T:\n",
    "            Vt_t = 0\n",
    "            prev_Vt = 0\n",
    "            phi_out.append(dt)\n",
    "            alpha_out.append(1)\n",
    "        \n",
    "        Vt[i] = Vt_t\n",
    "        \n",
    "    return Vt, phi_out, alpha_out\n",
    "\n",
    "def plot_BLIF(t, phi, A, Vt):\n",
    "\n",
    "    fig = plt.figure()\n",
    "    top = fig.add_subplot(211)\n",
    "    bottom = fig.add_subplot(212)\n",
    "\n",
    "    top.set_xlim([min, max])\n",
    "    bottom.set_xlim([min, max])\n",
    "    bottom.set_ylim([0, 2])\n",
    "\n",
    "    top.plot(t, Vt.T)\n",
    "    bottom.vlines(phi, [0], A)\n",
    "    \n",
    "    return (top, bottom)\n",
    "\n",
    "\n",
    "epsilon = 5.0\n",
    "min = -1.0\n",
    "max = 10.0\n",
    "\n",
    "t = np.arange(min, max, 0.1)\n",
    "\n",
    "# One spike a t=0 with aplitude 1\n",
    "ts = [2, 4, 6]\n",
    "alphas = [1.0 , 1.0, 1.0]\n",
    "\n",
    "Vt = generate_BLIF(t, ts, alphas, epsilon)\n",
    "plot_BLIF(t, ts, alphas, Vt)"
   ]
  },
  {
   "cell_type": "markdown",
   "metadata": {},
   "source": [
    "#### Multiple spikes\n",
    "\n",
    "The action potential with many input spikes can be calculated by adding the spike amplitude to the current action potential and then decaying from that point.\n",
    "\n",
    "For example: Given a spike $\\alpha = 1$ a time $t = 0$ and there is a spike at $t=3$\n",
    "\n",
    "$V(t)= \\cases{\n",
    "    \\alpha.e^{-(t - 0) \\over \\epsilon} & \\text{if } t\\lt3\\cr\n",
    "    \\alpha.e^{-(3 - 0) \\over \\epsilon} + \\alpha.e^{-(t - 3) \\over \\epsilon} & \\text{if } t\\ge3\n",
    "}$"
   ]
  },
  {
   "cell_type": "code",
   "execution_count": 4,
   "metadata": {},
   "outputs": [
    {
     "data": {
      "text/plain": [
       "(<matplotlib.axes.AxesSubplot at 0x7fbc84e794d0>,\n",
       " <matplotlib.axes.AxesSubplot at 0x7fbc26ec4d10>)"
      ]
     },
     "execution_count": 4,
     "metadata": {},
     "output_type": "execute_result"
    },
    {
     "data": {
      "image/png": "[encoded data removed]",
      "text/plain": [
       "<matplotlib.figure.Figure at 0x7fbc26ee9cd0>"
      ]
     },
     "metadata": {},
     "output_type": "display_data"
    }
   ],
   "source": [
    "min = -1.0\n",
    "max = 10.0\n",
    "\n",
    "t = np.arange(min, max, 0.1)\n",
    "\n",
    "epsilon = 5\n",
    "phi = [0, 3]\n",
    "A = [1, 1]\n",
    "\n",
    "Vt = generate_BLIF(t, phi, A, epsilon)\n",
    "plot_BLIF(t, phi, A, Vt)\n"
   ]
  },
  {
   "cell_type": "markdown",
   "metadata": {},
   "source": [
    "#### Affect of spike trains on action potential\n",
    "\n",
    "In the plot_BLIF function above we can use any combination of spike inputs and timing to generate our activation function. If we have a spikes at a frequency of $f = 1/t_{f}$, the action potential will look like this."
   ]
  },
  {
   "cell_type": "code",
   "execution_count": 8,
   "metadata": {},
   "outputs": [
    {
     "data": {
      "text/plain": [
       "(<matplotlib.axes.AxesSubplot at 0x7fbc846284d0>,\n",
       " <matplotlib.axes.AxesSubplot at 0x7fbc26a4d950>)"
      ]
     },
     "execution_count": 8,
     "metadata": {},
     "output_type": "execute_result"
    },
    {
     "data": {
      "image/png": "[encoded data removed]",
      "text/plain": [
       "<matplotlib.figure.Figure at 0x7fbc26c25510>"
      ]
     },
     "metadata": {},
     "output_type": "display_data"
    }
   ],
   "source": [
    "alpha = 1\n",
    "tf = 1\n",
    "epsilon = 5\n",
    "\n",
    "# t = [1,2,3.....n]\n",
    "min = -5.0\n",
    "max = 50.0\n",
    "t = np.arange(min, max, 0.1)\n",
    "\n",
    "phi = np.arange(0, max, tf)\n",
    "A = alpha * np.ones_like(phi)\n",
    "\n",
    "Vt = generate_BLIF(t, phi, A, epsilon)\n",
    "plot_BLIF(t, phi, A, Vt)"
   ]
  },
  {
   "cell_type": "markdown",
   "metadata": {},
   "source": [
    "At a fixed frequency, initially the action potential rises very fast, but tends to level off. This will be referred to as the saturation point of the neuron.\n",
    "\n",
    "\n",
    "\n",
    "### Saturation \n",
    "\n",
    "Saturation $\\hat U$ is the peak value that the action potential will rise to and stay at over time. \n",
    "\n",
    "$\\hat U = {\\alpha \\over {1-e^{-t_{f} \\over \\epsilon}}}$ with respect to $t_{f}$ (Shown below as a green line)\n",
    "\n",
    "\n",
    "### Peak curve\n",
    "\n",
    "The peak curve $U$ is the value that the peaks of the action potential follows. \n",
    "\n",
    "$U = {\\hat U - \\hat U.e^{-t \\over \\epsilon}}$ (Shown beliw as a red dotted line)\n",
    "\n"
   ]
  },
  {
   "cell_type": "code",
   "execution_count": 21,
   "metadata": {},
   "outputs": [
    {
     "data": {
      "text/plain": [
       "[<matplotlib.lines.Line2D at 0x7fbc25e3a5d0>]"
      ]
     },
     "execution_count": 21,
     "metadata": {},
     "output_type": "execute_result"
    },
    {
     "data": {
      "image/png": "[encoded data removed]",
      "text/plain": [
       "<matplotlib.figure.Figure at 0x7fbc26262bd0>"
      ]
     },
     "metadata": {},
     "output_type": "display_data"
    }
   ],
   "source": [
    "alpha = 0.5\n",
    "tf = 10.0\n",
    "epsilon = 30.0\n",
    "\n",
    "min = -10.0\n",
    "max = 300.0\n",
    "t = np.arange(min, max, 0.1)\n",
    "\n",
    "phi = np.arange(10.0, max, tf)\n",
    "A = alpha * np.ones_like(phi)\n",
    "Vt = generate_BLIF(t, phi, A, epsilon)\n",
    "\n",
    "top, _ = plot_BLIF(t, phi, A, Vt)\n",
    "\n",
    "# Now we can calculate UHat and U\n",
    "UHat = alpha/(1-np.exp(-tf/epsilon)) \n",
    "UHat_time = UHat * np.ones_like(t)\n",
    "\n",
    "U_time = UHat - UHat*np.exp(-t/epsilon)\n",
    "\n",
    "top.set_ylim([0, 2])\n",
    "top.plot(t, UHat_time, linewidth=4.0, color='g')\n",
    "top.plot(t, U_time, linewidth=2.0, color='r')\n"
   ]
  },
  {
   "cell_type": "markdown",
   "metadata": {},
   "source": [
    "## Threshold firing\n",
    "\n",
    "The threhold $T$ of a neuron is defined as the value of $V$ where the neuron will fire and reset it's action potential to 0.\n",
    "\n",
    "As input spikes are discrete events, output spikes are also discrete events that can only occur at the same time as an output spike.\n",
    "\n",
    "Setting $T$ to 1, the output properties of the neuron act in the following way:"
   ]
  },
  {
   "cell_type": "code",
   "execution_count": 26,
   "metadata": {},
   "outputs": [
    {
     "data": {
      "text/plain": [
       "(<matplotlib.axes.AxesSubplot at 0x7f72bb8980d0>,\n",
       " <matplotlib.axes.AxesSubplot at 0x7f72bc3cca10>)"
      ]
     },
     "execution_count": 26,
     "metadata": {},
     "output_type": "execute_result"
    },
    {
     "data": {
      "image/png": "[encoded data removed]",
      "text/plain": [
       "<matplotlib.figure.Figure at 0x7f72bb5fa810>"
      ]
     },
     "metadata": {},
     "output_type": "display_data"
    },
    {
     "data": {
      "image/png": "[encoded data removed]",
      "text/plain": [
       "<matplotlib.figure.Figure at 0x7f72bb5fa650>"
      ]
     },
     "metadata": {},
     "output_type": "display_data"
    }
   ],
   "source": [
    "min = -1.0\n",
    "max = 10.0\n",
    "t = np.arange(min, max, 0.1)\n",
    "\n",
    "epsilon = 10.0\n",
    "phi = [0, 1, 2, 3]\n",
    "A = [0.3, 0.3, 0.3, 0.3]\n",
    "        \n",
    "Vt, phi_out, alpha_out = generate_BLIF_events(t, phi, A, epsilon, 1)\n",
    "plot_BLIF(t, phi, A, Vt)\n",
    "\n",
    "plot_BLIF(t, phi_out, alpha_out, Vt)"
   ]
  },
  {
   "cell_type": "markdown",
   "metadata": {},
   "source": [
    "### Using $U$\n",
    "\n",
    "Sometimes treating the action potential $V$ as the peak curve ignoring the discrete properties of $V$ with respect to spike timing etc, makes some calculations easier. However this is more inaccurate as $t_{f}$ is larger.\n",
    "\n",
    "Assuming that the action potential is not given by $V$ but more its linear counterpart $U$, the firing time for the downstream neuron can be calculated as: \n",
    "$t_{f2} = \\epsilon \\ln {\\hat U \\over {\\hat U - T}}$\n",
    "\n",
    "for example, if $T=1$ then we have: "
   ]
  },
  {
   "cell_type": "code",
   "execution_count": 3,
   "metadata": {},
   "outputs": [
    {
     "name": "stdout",
     "output_type": "stream",
     "text": [
      "25.1061881955\n"
     ]
    }
   ],
   "source": [
    "alpha = 0.5\n",
    "tf = 10.0\n",
    "epsilon = 30.0\n",
    "T = 1\n",
    "\n",
    "UHat = alpha/(1-np.exp(-tf/epsilon)) \n",
    "\n",
    "tf2 = epsilon*np.log(UHat/(UHat - T))\n",
    "\n",
    "print tf2"
   ]
  },
  {
   "cell_type": "markdown",
   "metadata": {
    "collapsed": true
   },
   "source": [
    " * relationship between input frequency and output frequency\n",
    " * how do epsilon/alpha/firing frequency of two neurons affect the final neuron output saturation\n",
    " \n",
    "## backward dynamics (ignoring spike timing dependence)\n",
    " * just using saturation, how would we change firing frequency or epsilon to get to a target\n",
    " * back propagation of simple XOR/classification etc\n",
    "\n",
    "## backward dynamics (using spike timing dependence)\n",
    " * how do we use the spike timing of multiple neurons to backpropagate deltas at an event level?\n",
    " * are the output time dependent functions and we differentiate with respect to time? (can we train to generate a sine wave or something similar) would we need to \n",
    " * can we use recurrent connections to learn output patterns?"
   ]
  },
  {
   "cell_type": "code",
   "execution_count": null,
   "metadata": {
    "collapsed": true
   },
   "outputs": [],
   "source": []
  },
  {
   "cell_type": "code",
   "execution_count": 1,
   "metadata": {},
   "outputs": [
    {
     "ename": "NameError",
     "evalue": "name 'np' is not defined",
     "output_type": "error",
     "traceback": [
      "\u001b[1;31m---------------------------------------------------------------------------\u001b[0m",
      "\u001b[1;31mNameError\u001b[0m                                 Traceback (most recent call last)",
      "\u001b[1;32m<ipython-input-1-35a969d19c55>\u001b[0m in \u001b[0;36m<module>\u001b[1;34m()\u001b[0m\n\u001b[1;32m----> 1\u001b[1;33m \u001b[0ma\u001b[0m \u001b[1;33m=\u001b[0m \u001b[0mnp\u001b[0m\u001b[1;33m.\u001b[0m\u001b[0mzeros\u001b[0m\u001b[1;33m(\u001b[0m\u001b[1;36m100\u001b[0m\u001b[1;33m)\u001b[0m\u001b[1;33m\u001b[0m\u001b[0m\n\u001b[0m",
      "\u001b[1;31mNameError\u001b[0m: name 'np' is not defined"
     ]
    }
   ],
   "source": [
    "a = np.zeros(100)\n"
   ]
  },
  {
   "cell_type": "code",
   "execution_count": null,
   "metadata": {
    "collapsed": true
   },
   "outputs": [],
   "source": []
  }
 ],
 "metadata": {
  "kernelspec": {
   "display_name": "Python 2",
   "language": "python",
   "name": "python2"
  },
  "language_info": {
   "codemirror_mode": {
    "name": "ipython",
    "version": 2
   },
   "file_extension": ".py",
   "mimetype": "text/x-python",
   "name": "python",
   "nbconvert_exporter": "python",
   "pygments_lexer": "ipython2",
   "version": "2.7.6"
  }
 },
 "nbformat": 4,
 "nbformat_minor": 1
}
