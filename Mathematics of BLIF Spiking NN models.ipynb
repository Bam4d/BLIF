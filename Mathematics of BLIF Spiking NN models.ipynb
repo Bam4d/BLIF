{
 "cells": [
  {
   "cell_type": "code",
   "execution_count": 2,
   "metadata": {
    "collapsed": true
   },
   "outputs": [],
   "source": [
    "import matplotlib\n",
    "import numpy as np\n",
    "import matplotlib.pyplot as plt\n",
    "%matplotlib inline  "
   ]
  },
  {
   "cell_type": "markdown",
   "metadata": {},
   "source": [
    "# BLIF - Bamford Leaky Integrate and Fire \n",
    "\n",
    "## Background\n",
    "\n",
    "These models were created as part of my Masters at reading university. I had a huge interest in neural networks especially with piking neural networks as Deep Learning was not a huge field back then.\n",
    "\n",
    "I want to try and apply some things I have learned while working with deep learning at import.io, to the models I had while in university. I also have several other ideas that i think I could apply, for example:\n",
    "\n",
    "* Using sorted sets to store future spike events. \n",
    "  * This was previously done using a list of lists which stored the events up to 20 time points in the future. \n",
    "  * Can store a limitless number of events in a sorted set, where the item in the set is scored with a timestamp of **expected execution time**. Much like a CPU scheduler\n",
    "* Implementing Error Backpropagation\n",
    "  * Can work out how to propagate errors back to previous neurons based on error and time values, this is known as **Spike Time Dependent Plasticity**\n",
    "  * Can implement some basic output layers such as softmax .\n",
    "  * Can implement Error functions such as cross entropy, mean squared error etc..\n",
    "  \n",
    "  \n",
    "Generally this is for pure interest and my own personal research. Also its good practice understanding mathematical concepts that come in hanny when doing any kind of ML project.\n",
    "\n",
    "## BLIF\n",
    "\n",
    "The BLIF neuron model (renamed from cavalcade because thats a bit shitty) is a spiking neuron model with a very basic activation function.\n",
    "\n",
    "### Action potential\n",
    "\n",
    "The neuron's activation potential is reactive to instantaneous spikes (To be more mathematically correct, it is effectively integrating a dirac delta). The neuron then exponentially decays that action potential ($V$) over time with respect to when that spike was recieved. \n",
    "\n",
    "$V(t) = \\alpha.e^{-(t_{n} - t_{n-1}) \\over \\epsilon}$\n",
    "\n",
    "($\\epsilon$ here is a \"decay factor\")\n",
    "\n",
    "\n",
    "For example: Given a spike $\\alpha = 1$ a time $t = 0$ and there are no other spikes\n",
    "\n",
    "$V(t) = \\alpha.e^{-(t - 0) \\over \\epsilon}$"
   ]
  },
  {
   "cell_type": "code",
   "execution_count": 119,
   "metadata": {
    "collapsed": false
   },
   "outputs": [
    {
     "data": {
      "text/plain": [
       "(<matplotlib.axes.AxesSubplot at 0x7fd4f70d7350>,\n",
       " <matplotlib.axes.AxesSubplot at 0x7fd4f705ce90>)"
      ]
     },
     "execution_count": 119,
     "metadata": {},
     "output_type": "execute_result"
    },
    {
     "data": {
      "image/png": "[encoded data removed]",
      "text/plain": [
       "<matplotlib.figure.Figure at 0x7fd4f70de9d0>"
      ]
     },
     "metadata": {},
     "output_type": "display_data"
    }
   ],
   "source": [
    "# Definte a function that will plot our action potential\n",
    "def plot_BLIF(t, phi, A, epsilon):\n",
    "    \n",
    "    phi = np.array(phi)\n",
    "    A = np.array(A)\n",
    "    \n",
    "    # Create integratons of diract delta functions for each spike\n",
    "    D = np.tile(t, (len(phi), 1))\n",
    "    cidx, ridx = np.where(D.T>=phi)\n",
    "    D[:,:] = 0\n",
    "    D[ridx, cidx] = 1\n",
    "    \n",
    "    # Decay function for each spike\n",
    "    E = np.exp(-((t - phi[None,:].T) / epsilon))\n",
    "    \n",
    "    #print D\n",
    "    #print alphas\n",
    "    #print E\n",
    "\n",
    "    # Multiply integrated spikes with spike strengths\n",
    "    Da = np.multiply(D.T, A)\n",
    "\n",
    "    #print Da\n",
    "    \n",
    "    #Vt = np.dot(Da, E)\n",
    "    \n",
    "    #print Da.T * E\n",
    "\n",
    "    # Sum the product of the exponentials and the integrated dirac step\n",
    "    Vt = np.sum(Da.T * E, axis=0)\n",
    "    \n",
    "    #print Vt\n",
    "\n",
    "    fig = plt.figure()\n",
    "    top = fig.add_subplot(211)\n",
    "    bottom = fig.add_subplot(212)\n",
    "\n",
    "    top.set_xlim([min, max])\n",
    "    bottom.set_xlim([min, max])\n",
    "    bottom.set_ylim([0, 2])\n",
    "\n",
    "    top.plot(t, Vt.T)\n",
    "    bottom.vlines(phi, [0], A)\n",
    "    \n",
    "    return (top, bottom)\n",
    "\n",
    "\n",
    "epsilon = 5.0\n",
    "min = -1.0\n",
    "max = 10.0\n",
    "\n",
    "t = np.arange(min, max, 0.1)\n",
    "\n",
    "# One spike a t=0 with aplitude 1\n",
    "ts = [2, 4, 6]\n",
    "alphas = [1.0 , 1.0, 1.0]\n",
    "\n",
    "plot_BLIF(t, ts, alphas, epsilon)"
   ]
  },
  {
   "cell_type": "markdown",
   "metadata": {},
   "source": [
    "#### Multiple spikes\n",
    "\n",
    "The action potential with many input spikes can be calculated by adding the spike amplitude to the current action potential and then decaying from that point.\n",
    "\n",
    "For example: Given a spike $\\alpha = 1$ a time $t = 0$ and there is a spike at $t=3$\n",
    "\n",
    "$V(t)= \\cases{\n",
    "    \\alpha.e^{-(t - 0) \\over \\epsilon} & \\text{if } t\\lt3\\cr\n",
    "    \\alpha.e^{-(3 - 0) \\over \\epsilon} + \\alpha.e^{-(t - 3) \\over \\epsilon} & \\text{if } t\\ge3\n",
    "}$"
   ]
  },
  {
   "cell_type": "code",
   "execution_count": 120,
   "metadata": {
    "collapsed": false
   },
   "outputs": [
    {
     "data": {
      "text/plain": [
       "(<matplotlib.axes.AxesSubplot at 0x7fd4f7534c10>,\n",
       " <matplotlib.axes.AxesSubplot at 0x7fd4f6f36150>)"
      ]
     },
     "execution_count": 120,
     "metadata": {},
     "output_type": "execute_result"
    },
    {
     "data": {
      "image/png": "[encoded data removed]",
      "text/plain": [
       "<matplotlib.figure.Figure at 0x7fd4f7121590>"
      ]
     },
     "metadata": {},
     "output_type": "display_data"
    }
   ],
   "source": [
    "min = -1.0\n",
    "max = 10.0\n",
    "\n",
    "t = np.arange(min, max, 0.1)\n",
    "\n",
    "plot_BLIF(t, [0, 3], [1, 1], 5)"
   ]
  },
  {
   "cell_type": "markdown",
   "metadata": {},
   "source": [
    "#### Affect of spike trains on action potential\n",
    "\n",
    "In the plot_BLIF function above we can use any combination of spike inputs and timing to generate our activation function. If we have a spikes at a frequency of $f = 1/t_{f}$, the action potential will look like this."
   ]
  },
  {
   "cell_type": "code",
   "execution_count": 122,
   "metadata": {
    "collapsed": false
   },
   "outputs": [
    {
     "data": {
      "text/plain": [
       "(<matplotlib.axes.AxesSubplot at 0x7fd4f6cd62d0>,\n",
       " <matplotlib.axes.AxesSubplot at 0x7fd4f6c6f690>)"
      ]
     },
     "execution_count": 122,
     "metadata": {},
     "output_type": "execute_result"
    },
    {
     "data": {
      "image/png": "[encoded data removed]",
      "text/plain": [
       "<matplotlib.figure.Figure at 0x7fd4f71051d0>"
      ]
     },
     "metadata": {},
     "output_type": "display_data"
    }
   ],
   "source": [
    "alpha = 1\n",
    "tf = 1\n",
    "epsilon = 5\n",
    "\n",
    "# t = [1,2,3.....n]\n",
    "min = -5.0\n",
    "max = 50.0\n",
    "t = np.arange(min, max, 0.1)\n",
    "\n",
    "spike_timings = np.arange(0, max, tf)\n",
    "spike_amplitudes = alpha * np.ones_like(spike_timings)\n",
    "\n",
    "plot_BLIF(t, spike_timings, spike_amplitudes, epsilon)"
   ]
  },
  {
   "cell_type": "markdown",
   "metadata": {},
   "source": [
    "At a fixed frequency, initially the action potential rises very fast, but tends to level off. This will be referred to as the saturation point of the neuron.\n",
    "\n",
    "\n",
    "### Saturation \n",
    "\n",
    "Saturation ($\\hat U$) is the peak value that the action potential will rise to and stay at over time. It can be shown that is follows a fairly simple geometric progression:\n",
    "\n",
    "$\\hat U = {\\alpha \\over {1-e^{t_{f} \\over \\epsilon}}}$ with respect to $t_{f}$"
   ]
  },
  {
   "cell_type": "code",
   "execution_count": 125,
   "metadata": {
    "collapsed": false
   },
   "outputs": [
    {
     "name": "stdout",
     "output_type": "stream",
     "text": [
      "1.76386323658\n"
     ]
    },
    {
     "ename": "ValueError",
     "evalue": "x and y must have same first dimension",
     "output_type": "error",
     "traceback": [
      "\u001b[1;31m---------------------------------------------------------------------------\u001b[0m",
      "\u001b[1;31mValueError\u001b[0m                                Traceback (most recent call last)",
      "\u001b[1;32m<ipython-input-125-9512a019de42>\u001b[0m in \u001b[0;36m<module>\u001b[1;34m()\u001b[0m\n\u001b[0;32m     19\u001b[0m \u001b[1;33m\u001b[0m\u001b[0m\n\u001b[0;32m     20\u001b[0m \u001b[1;31m#Uhat_time = Uhat * np.ones_like(spike_timings)\u001b[0m\u001b[1;33m\u001b[0m\u001b[1;33m\u001b[0m\u001b[0m\n\u001b[1;32m---> 21\u001b[1;33m \u001b[0mtop\u001b[0m\u001b[1;33m.\u001b[0m\u001b[0mplot\u001b[0m\u001b[1;33m(\u001b[0m\u001b[0mspike_timings\u001b[0m\u001b[1;33m,\u001b[0m \u001b[0mUhat_time\u001b[0m\u001b[1;33m)\u001b[0m\u001b[1;33m\u001b[0m\u001b[0m\n\u001b[0m",
      "\u001b[1;32m/usr/lib/pymodules/python2.7/matplotlib/axes.pyc\u001b[0m in \u001b[0;36mplot\u001b[1;34m(self, *args, **kwargs)\u001b[0m\n\u001b[0;32m   4135\u001b[0m         \u001b[0mlines\u001b[0m \u001b[1;33m=\u001b[0m \u001b[1;33m[\u001b[0m\u001b[1;33m]\u001b[0m\u001b[1;33m\u001b[0m\u001b[0m\n\u001b[0;32m   4136\u001b[0m \u001b[1;33m\u001b[0m\u001b[0m\n\u001b[1;32m-> 4137\u001b[1;33m         \u001b[1;32mfor\u001b[0m \u001b[0mline\u001b[0m \u001b[1;32min\u001b[0m \u001b[0mself\u001b[0m\u001b[1;33m.\u001b[0m\u001b[0m_get_lines\u001b[0m\u001b[1;33m(\u001b[0m\u001b[1;33m*\u001b[0m\u001b[0margs\u001b[0m\u001b[1;33m,\u001b[0m \u001b[1;33m**\u001b[0m\u001b[0mkwargs\u001b[0m\u001b[1;33m)\u001b[0m\u001b[1;33m:\u001b[0m\u001b[1;33m\u001b[0m\u001b[0m\n\u001b[0m\u001b[0;32m   4138\u001b[0m             \u001b[0mself\u001b[0m\u001b[1;33m.\u001b[0m\u001b[0madd_line\u001b[0m\u001b[1;33m(\u001b[0m\u001b[0mline\u001b[0m\u001b[1;33m)\u001b[0m\u001b[1;33m\u001b[0m\u001b[0m\n\u001b[0;32m   4139\u001b[0m             \u001b[0mlines\u001b[0m\u001b[1;33m.\u001b[0m\u001b[0mappend\u001b[0m\u001b[1;33m(\u001b[0m\u001b[0mline\u001b[0m\u001b[1;33m)\u001b[0m\u001b[1;33m\u001b[0m\u001b[0m\n",
      "\u001b[1;32m/usr/lib/pymodules/python2.7/matplotlib/axes.pyc\u001b[0m in \u001b[0;36m_grab_next_args\u001b[1;34m(self, *args, **kwargs)\u001b[0m\n\u001b[0;32m    315\u001b[0m                 \u001b[1;32mreturn\u001b[0m\u001b[1;33m\u001b[0m\u001b[0m\n\u001b[0;32m    316\u001b[0m             \u001b[1;32mif\u001b[0m \u001b[0mlen\u001b[0m\u001b[1;33m(\u001b[0m\u001b[0mremaining\u001b[0m\u001b[1;33m)\u001b[0m \u001b[1;33m<=\u001b[0m \u001b[1;36m3\u001b[0m\u001b[1;33m:\u001b[0m\u001b[1;33m\u001b[0m\u001b[0m\n\u001b[1;32m--> 317\u001b[1;33m                 \u001b[1;32mfor\u001b[0m \u001b[0mseg\u001b[0m \u001b[1;32min\u001b[0m \u001b[0mself\u001b[0m\u001b[1;33m.\u001b[0m\u001b[0m_plot_args\u001b[0m\u001b[1;33m(\u001b[0m\u001b[0mremaining\u001b[0m\u001b[1;33m,\u001b[0m \u001b[0mkwargs\u001b[0m\u001b[1;33m)\u001b[0m\u001b[1;33m:\u001b[0m\u001b[1;33m\u001b[0m\u001b[0m\n\u001b[0m\u001b[0;32m    318\u001b[0m                     \u001b[1;32myield\u001b[0m \u001b[0mseg\u001b[0m\u001b[1;33m\u001b[0m\u001b[0m\n\u001b[0;32m    319\u001b[0m                 \u001b[1;32mreturn\u001b[0m\u001b[1;33m\u001b[0m\u001b[0m\n",
      "\u001b[1;32m/usr/lib/pymodules/python2.7/matplotlib/axes.pyc\u001b[0m in \u001b[0;36m_plot_args\u001b[1;34m(self, tup, kwargs)\u001b[0m\n\u001b[0;32m    293\u001b[0m             \u001b[0mx\u001b[0m \u001b[1;33m=\u001b[0m \u001b[0mnp\u001b[0m\u001b[1;33m.\u001b[0m\u001b[0marange\u001b[0m\u001b[1;33m(\u001b[0m\u001b[0my\u001b[0m\u001b[1;33m.\u001b[0m\u001b[0mshape\u001b[0m\u001b[1;33m[\u001b[0m\u001b[1;36m0\u001b[0m\u001b[1;33m]\u001b[0m\u001b[1;33m,\u001b[0m \u001b[0mdtype\u001b[0m\u001b[1;33m=\u001b[0m\u001b[0mfloat\u001b[0m\u001b[1;33m)\u001b[0m\u001b[1;33m\u001b[0m\u001b[0m\n\u001b[0;32m    294\u001b[0m \u001b[1;33m\u001b[0m\u001b[0m\n\u001b[1;32m--> 295\u001b[1;33m         \u001b[0mx\u001b[0m\u001b[1;33m,\u001b[0m \u001b[0my\u001b[0m \u001b[1;33m=\u001b[0m \u001b[0mself\u001b[0m\u001b[1;33m.\u001b[0m\u001b[0m_xy_from_xy\u001b[0m\u001b[1;33m(\u001b[0m\u001b[0mx\u001b[0m\u001b[1;33m,\u001b[0m \u001b[0my\u001b[0m\u001b[1;33m)\u001b[0m\u001b[1;33m\u001b[0m\u001b[0m\n\u001b[0m\u001b[0;32m    296\u001b[0m \u001b[1;33m\u001b[0m\u001b[0m\n\u001b[0;32m    297\u001b[0m         \u001b[1;32mif\u001b[0m \u001b[0mself\u001b[0m\u001b[1;33m.\u001b[0m\u001b[0mcommand\u001b[0m \u001b[1;33m==\u001b[0m \u001b[1;34m'plot'\u001b[0m\u001b[1;33m:\u001b[0m\u001b[1;33m\u001b[0m\u001b[0m\n",
      "\u001b[1;32m/usr/lib/pymodules/python2.7/matplotlib/axes.pyc\u001b[0m in \u001b[0;36m_xy_from_xy\u001b[1;34m(self, x, y)\u001b[0m\n\u001b[0;32m    235\u001b[0m         \u001b[0my\u001b[0m \u001b[1;33m=\u001b[0m \u001b[0mnp\u001b[0m\u001b[1;33m.\u001b[0m\u001b[0matleast_1d\u001b[0m\u001b[1;33m(\u001b[0m\u001b[0my\u001b[0m\u001b[1;33m)\u001b[0m\u001b[1;33m\u001b[0m\u001b[0m\n\u001b[0;32m    236\u001b[0m         \u001b[1;32mif\u001b[0m \u001b[0mx\u001b[0m\u001b[1;33m.\u001b[0m\u001b[0mshape\u001b[0m\u001b[1;33m[\u001b[0m\u001b[1;36m0\u001b[0m\u001b[1;33m]\u001b[0m \u001b[1;33m!=\u001b[0m \u001b[0my\u001b[0m\u001b[1;33m.\u001b[0m\u001b[0mshape\u001b[0m\u001b[1;33m[\u001b[0m\u001b[1;36m0\u001b[0m\u001b[1;33m]\u001b[0m\u001b[1;33m:\u001b[0m\u001b[1;33m\u001b[0m\u001b[0m\n\u001b[1;32m--> 237\u001b[1;33m             \u001b[1;32mraise\u001b[0m \u001b[0mValueError\u001b[0m\u001b[1;33m(\u001b[0m\u001b[1;34m\"x and y must have same first dimension\"\u001b[0m\u001b[1;33m)\u001b[0m\u001b[1;33m\u001b[0m\u001b[0m\n\u001b[0m\u001b[0;32m    238\u001b[0m         \u001b[1;32mif\u001b[0m \u001b[0mx\u001b[0m\u001b[1;33m.\u001b[0m\u001b[0mndim\u001b[0m \u001b[1;33m>\u001b[0m \u001b[1;36m2\u001b[0m \u001b[1;32mor\u001b[0m \u001b[0my\u001b[0m\u001b[1;33m.\u001b[0m\u001b[0mndim\u001b[0m \u001b[1;33m>\u001b[0m \u001b[1;36m2\u001b[0m\u001b[1;33m:\u001b[0m\u001b[1;33m\u001b[0m\u001b[0m\n\u001b[0;32m    239\u001b[0m             \u001b[1;32mraise\u001b[0m \u001b[0mValueError\u001b[0m\u001b[1;33m(\u001b[0m\u001b[1;34m\"x and y can be no greater than 2-D\"\u001b[0m\u001b[1;33m)\u001b[0m\u001b[1;33m\u001b[0m\u001b[0m\n",
      "\u001b[1;31mValueError\u001b[0m: x and y must have same first dimension"
     ]
    },
    {
     "data": {
      "image/png": "[encoded data removed]",
      "text/plain": [
       "<matplotlib.figure.Figure at 0x7fd4f7dc0050>"
      ]
     },
     "metadata": {},
     "output_type": "display_data"
    }
   ],
   "source": [
    "alpha = 0.5\n",
    "tf = 10.0\n",
    "epsilon = 30.0\n",
    "\n",
    "min = -5.0\n",
    "max = 100.0\n",
    "t = np.arange(min, max, 0.1)\n",
    "\n",
    "spike_timings = np.arange(0, max, tf)\n",
    "spike_amplitudes = alpha * np.ones_like(spike_timings)\n",
    "\n",
    "top, _ = plot_BLIF(t, spike_timings, spike_amplitudes, epsilon)\n",
    "\n",
    "\n",
    "# now we can calculate Uhat and U\n",
    "Uhat = alpha/(1-np.exp(-tf/epsilon)) \n",
    "#U = \n",
    "print Uhat\n",
    "\n",
    "#Uhat_time = Uhat * np.ones_like(spike_timings)\n",
    "top.plot(spike_timings, Uhat_time)\n"
   ]
  },
  {
   "cell_type": "markdown",
   "metadata": {
    "collapsed": true
   },
   "source": [
    " \n",
    "### Threshold firing\n",
    " * relationship between input frequency and output frequency\n",
    " * how do epsilon/alpha/firing frequency of two neurons affect the final neuron output saturation\n",
    " \n",
    "## backward dynamics (ignoring spike timing dependence)\n",
    " * just using saturation, how would we change firing frequency or epsilon to get to a target\n",
    " * back propagation of simple XOR/classification etc\n",
    "\n",
    "## backward dynamics (using spike timing dependence)\n",
    " * how do we use the spike timing of multiple neurons to backpropagate deltas at an event level?\n",
    " * are the output time dependent functions and we differentiate with respect to time? (can we train to generate a sine wave or something similar) would we need to \n",
    " * can we use recurrent connections to learn output patterns?"
   ]
  },
  {
   "cell_type": "code",
   "execution_count": 45,
   "metadata": {
    "collapsed": false
   },
   "outputs": [
    {
     "ename": "SyntaxError",
     "evalue": "invalid syntax (<ipython-input-45-1d21ab8ef298>, line 3)",
     "output_type": "error",
     "traceback": [
      "\u001b[1;36m  File \u001b[1;32m\"<ipython-input-45-1d21ab8ef298>\"\u001b[1;36m, line \u001b[1;32m3\u001b[0m\n\u001b[1;33m    a = [1 for i in range(0,100) if i > 50 else 0]\u001b[0m\n\u001b[1;37m                                              ^\u001b[0m\n\u001b[1;31mSyntaxError\u001b[0m\u001b[1;31m:\u001b[0m invalid syntax\n"
     ]
    }
   ],
   "source": [
    "a = np.zeros(100)\n"
   ]
  },
  {
   "cell_type": "code",
   "execution_count": null,
   "metadata": {
    "collapsed": false
   },
   "outputs": [],
   "source": []
  }
 ],
 "metadata": {
  "kernelspec": {
   "display_name": "Python 2",
   "language": "python",
   "name": "python2"
  },
  "language_info": {
   "codemirror_mode": {
    "name": "ipython",
    "version": 2
   },
   "file_extension": ".py",
   "mimetype": "text/x-python",
   "name": "python",
   "nbconvert_exporter": "python",
   "pygments_lexer": "ipython2",
   "version": "2.7.6"
  }
 },
 "nbformat": 4,
 "nbformat_minor": 0
}
